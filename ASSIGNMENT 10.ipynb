{
 "cells": [
  {
   "cell_type": "markdown",
   "id": "692e7c18",
   "metadata": {},
   "source": [
    "# ASSIGNMENT 10 (17 JUNE)\n"
   ]
  },
  {
   "cell_type": "markdown",
   "id": "cdb7c63a",
   "metadata": {},
   "source": [
    "QUE 1 =  What is the role of try and exception block?\n",
    "\n",
    "ANS 1 = In Python, the try and except blocks are used for error handling and exception handling. They allow you to gracefully handle exceptions (runtime errors) that may occur during the execution of your code, preventing your program from crashing and providing a mechanism to respond to unexpected situations. Here's how they work:\n",
    "\n",
    "try block: This is where you place the code that you want to monitor for exceptions. If an exception occurs within the try block, Python will immediately jump to the corresponding except block.\n",
    "\n",
    "except block: This block contains the code that specifies how to handle the exception that was raised in the try block. You can have multiple except blocks to handle different types of exceptions or respond differently to various error scenarios.\n",
    "\n",
    "Here's a basic example of how to use try and except blocks in Python"
   ]
  },
  {
   "cell_type": "code",
   "execution_count": 1,
   "id": "eb61e89e",
   "metadata": {},
   "outputs": [
    {
     "name": "stdout",
     "output_type": "stream",
     "text": [
      "Error: Division by zero\n"
     ]
    }
   ],
   "source": [
    "try:\n",
    "    # Code that may raise an exception\n",
    "    result = 10 / 0  # This will raise a ZeroDivisionError\n",
    "except ZeroDivisionError:\n",
    "    # Handle the specific exception (ZeroDivisionError) gracefully\n",
    "    print(\"Error: Division by zero\")\n",
    "except Exception as e:\n",
    "    # Handle other exceptions (if any)\n",
    "    print(f\"An error occurred: {e}\")\n"
   ]
  },
  {
   "cell_type": "markdown",
   "id": "635cb8cc",
   "metadata": {},
   "source": [
    "In this example, if a ZeroDivisionError occurs (division by zero), the program will execute the code in the first except block and print \"Error: Division by zero.\" If any other exception occurs, it will be caught by the second except block, which handles general exceptions.\n",
    "\n",
    "The use of try and except blocks is essential for robust error handling and helps ensure that your Python programs can gracefully recover from unexpected errors without crashing. It also allows you to log errors, provide informative error messages, and take appropriate actions based on the nature of the exception."
   ]
  },
  {
   "cell_type": "markdown",
   "id": "a9704f0d",
   "metadata": {},
   "source": [
    "QUE 2 =  What is the syntax for a basic try-except block?\n",
    "    \n",
    "ANS 2 = In Python, a basic try-except block is used for handling exceptions (errors) that may occur during the execution of code.\n",
    "        The syntax for a basic try-except block is as follows:\n"
   ]
  },
  {
   "cell_type": "code",
   "execution_count": 3,
   "id": "fe76277f",
   "metadata": {},
   "outputs": [
    {
     "ename": "SyntaxError",
     "evalue": "invalid syntax (3109213966.py, line 3)",
     "output_type": "error",
     "traceback": [
      "\u001b[1;36m  Cell \u001b[1;32mIn[3], line 3\u001b[1;36m\u001b[0m\n\u001b[1;33m    except ExceptionType:\u001b[0m\n\u001b[1;37m    ^\u001b[0m\n\u001b[1;31mSyntaxError\u001b[0m\u001b[1;31m:\u001b[0m invalid syntax\n"
     ]
    }
   ],
   "source": [
    "try:\n",
    "    # Code that may raise an exception\n",
    "except ExceptionType:\n",
    "    # Code to handle the exception\n"
   ]
  },
  {
   "cell_type": "markdown",
   "id": "b6a17f43",
   "metadata": {},
   "source": [
    "Here's a breakdown of the syntax:\n",
    "\n",
    "try: This keyword starts the try block, and you place the code that you want to monitor for exceptions inside this block.\n",
    "\n",
    "except ExceptionType: After the try block, you use the except keyword followed by the type of exception you want to catch (e.g., ZeroDivisionError, ValueError, TypeError, etc.). If an exception of the specified type occurs in the try block, the code inside the except block will be executed. You can also omit the ExceptionType to catch all exceptions, but it's generally recommended to specify the specific exceptions you expect.\n",
    "\n",
    "Code to handle the exception: In the except block, you write code to handle the exception that was raised in the try block. This code will be executed when an exception occurs. You can include any error-handling logic you need, such as logging an error message, displaying a user-friendly message, or taking corrective actions.\n",
    "\n",
    "Here's a simple example:"
   ]
  },
  {
   "cell_type": "code",
   "execution_count": 4,
   "id": "de698741",
   "metadata": {},
   "outputs": [
    {
     "name": "stdout",
     "output_type": "stream",
     "text": [
      "Enter a number: 5\n",
      "Result: 2.0\n"
     ]
    }
   ],
   "source": [
    "try:\n",
    "    num = int(input(\"Enter a number: \"))\n",
    "    result = 10 / num\n",
    "    print(\"Result:\", result)\n",
    "except ZeroDivisionError:\n",
    "    print(\"Division by zero is not allowed.\")\n",
    "except ValueError:\n",
    "    print(\"Invalid input. Please enter a valid number.\")\n",
    "except Exception as e:\n",
    "    print(\"An error occurred:\", e)\n"
   ]
  },
  {
   "cell_type": "markdown",
   "id": "c43bda77",
   "metadata": {},
   "source": [
    "In this example, if the user enters 0, a ZeroDivisionError will be raised, and the corresponding except ZeroDivisionError block will execute. If the user enters a non-integer value, a ValueError will be raised, and the corresponding except ValueError block will execute. \n",
    "If any other unexpected exception occurs, it will be caught by the generic except Exception as e block, which will print an error message along with the exception details."
   ]
  },
  {
   "cell_type": "markdown",
   "id": "2179dfc7",
   "metadata": {},
   "source": [
    "QUE 3 = What happens if an exception occurs inside a try block and there is no matching\n",
    "        except block?\n",
    "    \n",
    "ANS 3 = If an exception occurs inside a try block in a programming language that supports exception handling, and there is no matching except block to handle that exception, several things can happen depending on the language and its exception handling mechanism:\n",
    "\n",
    "Program Termination: In many programming languages, if an unhandled exception occurs, the program will terminate abruptly. This means that the program will stop executing, and any code following the try block will not be executed. The error message and stack trace (if available) may be printed to the console or logged for debugging purposes.\n",
    "\n",
    "Propagation: In some languages, unhandled exceptions will propagate up the call stack. This means that the exception will continue to propagate to the caller of the function/method containing the try block, and if it is not caught there, it will continue to propagate further up the call stack until it is caught or until the program terminates.\n",
    "\n",
    "Error Handling at a Higher Level: If the unhandled exception propagates up the call stack and is not caught at the current level, it may eventually be caught by an enclosing try...except block at a higher level in the program's execution hierarchy. If no such higher-level try...except block exists, the program will terminate.\n",
    "\n",
    "Here's a simple example in Python:"
   ]
  },
  {
   "cell_type": "code",
   "execution_count": 6,
   "id": "a20a2b78",
   "metadata": {},
   "outputs": [
    {
     "ename": "ZeroDivisionError",
     "evalue": "division by zero",
     "output_type": "error",
     "traceback": [
      "\u001b[1;31m---------------------------------------------------------------------------\u001b[0m",
      "\u001b[1;31mZeroDivisionError\u001b[0m                         Traceback (most recent call last)",
      "Cell \u001b[1;32mIn[6], line 3\u001b[0m\n\u001b[0;32m      1\u001b[0m \u001b[38;5;28;01mtry\u001b[39;00m:\n\u001b[0;32m      2\u001b[0m     \u001b[38;5;66;03m# Some code that may raise an exception\u001b[39;00m\n\u001b[1;32m----> 3\u001b[0m     result \u001b[38;5;241m=\u001b[39m \u001b[38;5;241m10\u001b[39m \u001b[38;5;241m/\u001b[39m \u001b[38;5;241m0\u001b[39m  \u001b[38;5;66;03m# This will raise a ZeroDivisionError\u001b[39;00m\n\u001b[0;32m      4\u001b[0m \u001b[38;5;28;01mexcept\u001b[39;00m \u001b[38;5;167;01mValueError\u001b[39;00m:\n\u001b[0;32m      5\u001b[0m     \u001b[38;5;66;03m# This except block won't catch the ZeroDivisionError\u001b[39;00m\n\u001b[0;32m      6\u001b[0m     \u001b[38;5;28mprint\u001b[39m(\u001b[38;5;124m\"\u001b[39m\u001b[38;5;124mCaught a ValueError\u001b[39m\u001b[38;5;124m\"\u001b[39m)\n",
      "\u001b[1;31mZeroDivisionError\u001b[0m: division by zero"
     ]
    }
   ],
   "source": [
    "try:\n",
    "    # Some code that may raise an exception\n",
    "    result = 10 / 0  # This will raise a ZeroDivisionError\n",
    "except ValueError:\n",
    "    # This except block won't catch the ZeroDivisionError\n",
    "    print(\"Caught a ValueError\")\n"
   ]
  },
  {
   "cell_type": "code",
   "execution_count": null,
   "id": "6a6c80c7",
   "metadata": {},
   "outputs": [],
   "source": [
    "In this example, a ZeroDivisionError occurs inside the try block, but there is no except block specifically designed to catch this type of exception. Therefore, the program will terminate with a traceback message indicating the error.\n",
    "\n",
    "It's important to handle exceptions appropriately in your code to prevent unexpected program termination and to provide meaningful error messages or take corrective actions when exceptions occur. This can be done by including appropriate except blocks or using more general exception handling mechanisms, like a generic catch-all except block or finally blocks, \n",
    "depending on the programming language you're using."
   ]
  },
  {
   "cell_type": "markdown",
   "id": "bb5743df",
   "metadata": {},
   "source": [
    "QUE 4 = What is the difference between using a bare except block and specifying a specific\n",
    "exception type?\n",
    "\n",
    "ANS 4 = In Python, when handling exceptions, you can use either a bare except block or specify a specific exception type. The key difference between these two approaches lies in the level of specificity and control you have over the exception handling process:\n",
    "\n",
    "Bare except block:"
   ]
  },
  {
   "cell_type": "code",
   "execution_count": 7,
   "id": "b70a07e1",
   "metadata": {},
   "outputs": [
    {
     "ename": "IndentationError",
     "evalue": "expected an indented block after 'try' statement on line 1 (3637230233.py, line 3)",
     "output_type": "error",
     "traceback": [
      "\u001b[1;36m  Cell \u001b[1;32mIn[7], line 3\u001b[1;36m\u001b[0m\n\u001b[1;33m    except:\u001b[0m\n\u001b[1;37m    ^\u001b[0m\n\u001b[1;31mIndentationError\u001b[0m\u001b[1;31m:\u001b[0m expected an indented block after 'try' statement on line 1\n"
     ]
    }
   ],
   "source": [
    "try:\n",
    "    # Some code that may raise exceptions\n",
    "except:\n",
    "    # This block will catch any exception\n",
    "    # It does not specify a particular exception type\n"
   ]
  },
  {
   "cell_type": "markdown",
   "id": "c29cfb20",
   "metadata": {},
   "source": [
    "When you use a bare except block, it will catch and handle any exception that occurs within the try block. This can be convenient for capturing and handling unexpected or unknown exceptions, but it's generally considered bad practice because it makes debugging and troubleshooting more difficult. It can hide errors and make it harder to pinpoint the cause of issues.\n",
    "\n",
    "Specifying a specific exception type:"
   ]
  },
  {
   "cell_type": "code",
   "execution_count": 8,
   "id": "3e8a024c",
   "metadata": {},
   "outputs": [
    {
     "ename": "IndentationError",
     "evalue": "expected an indented block after 'try' statement on line 1 (1196992967.py, line 3)",
     "output_type": "error",
     "traceback": [
      "\u001b[1;36m  Cell \u001b[1;32mIn[8], line 3\u001b[1;36m\u001b[0m\n\u001b[1;33m    except SpecificExceptionType:\u001b[0m\n\u001b[1;37m    ^\u001b[0m\n\u001b[1;31mIndentationError\u001b[0m\u001b[1;31m:\u001b[0m expected an indented block after 'try' statement on line 1\n"
     ]
    }
   ],
   "source": [
    "try:\n",
    "    # Some code that may raise exceptions\n",
    "except SpecificExceptionType:\n",
    "    # This block will only catch exceptions of type SpecificExceptionType\n"
   ]
  },
  {
   "cell_type": "markdown",
   "id": "d95e3235",
   "metadata": {},
   "source": [
    "When you specify a specific exception type (e.g., ValueError, TypeError, FileNotFoundError, etc.) in the except block, it will only catch exceptions that match that type. This approach is more precise and allows you to handle different exceptions in a more controlled manner. It also makes your code more readable and helps you handle exceptions more appropriately based on their type.\n",
    "\n",
    "In general, it's recommended to specify the specific exception types your code can raise and handle them explicitly. This promotes better code clarity, helps you identify and address issues more effectively, and prevents unintentional masking of errors. Bare except blocks should be avoided, except in very rare cases where you want to capture and log unexpected exceptions but still allow the program to continue running."
   ]
  },
  {
   "cell_type": "markdown",
   "id": "f27a21bf",
   "metadata": {},
   "source": [
    "QUE 5 = Can you have nested try-except blocks in Python? If yes, then give an example.\n",
    "\n",
    "ANS 5 = Yes, you can have nested try-except blocks in Python. This allows you to handle exceptions at different levels of your code,\n",
    "providing more fine-grained control over error handling. Here's an example:"
   ]
  },
  {
   "cell_type": "code",
   "execution_count": 10,
   "id": "b72d2a95",
   "metadata": {},
   "outputs": [
    {
     "name": "stdout",
     "output_type": "stream",
     "text": [
      "Enter a numerator: 10\n",
      "Enter a denominator: 0\n",
      "Error: Division by zero in inner try block\n",
      "Program continues...\n"
     ]
    }
   ],
   "source": [
    "try:\n",
    "    # Outer try block\n",
    "    num1 = int(input(\"Enter a numerator: \"))\n",
    "    num2 = int(input(\"Enter a denominator: \"))\n",
    "    \n",
    "    try:\n",
    "        # Inner try block\n",
    "        result = num1 / num2\n",
    "    except ZeroDivisionError:\n",
    "        print(\"Error: Division by zero in inner try block\")\n",
    "    \n",
    "except ValueError:\n",
    "    print(\"Error: Invalid input in outer try block\")\n",
    "except Exception as e:\n",
    "    print(f\"An error occurred in the outer try block: {e}\")\n",
    "\n",
    "print(\"Program continues...\")\n"
   ]
  },
  {
   "cell_type": "markdown",
   "id": "246794e0",
   "metadata": {},
   "source": [
    "QUE 6 = Can we use multiple exception blocks, if yes then give an example?\n",
    "\n",
    "QUE 6 = Yes, you can use multiple except blocks in many programming languages to handle different types of exceptions separately. This allows you to specify different actions or error-handling logic for each type of exception that may occur in your code.\n",
    "Here's an example in Python:"
   ]
  },
  {
   "cell_type": "code",
   "execution_count": 12,
   "id": "2eadc365",
   "metadata": {},
   "outputs": [
    {
     "name": "stdout",
     "output_type": "stream",
     "text": [
      "Enter a number: H\n",
      "Error: Invalid input. Please enter a valid number\n",
      "Execution completed\n"
     ]
    }
   ],
   "source": [
    "try:\n",
    "    # Code that may raise exceptions\n",
    "    num = int(input(\"Enter a number: \"))\n",
    "    result = 10 / num\n",
    "\n",
    "    # This will raise a ZeroDivisionError if num is 0\n",
    "except ZeroDivisionError:\n",
    "    print(\"Error: Division by zero\")\n",
    "\n",
    "    # This will raise a ValueError if the user enters something that's not a number\n",
    "except ValueError:\n",
    "    print(\"Error: Invalid input. Please enter a valid number\")\n",
    "\n",
    "# This block will execute if no exceptions are raised\n",
    "else:\n",
    "    print(\"Result:\", result)\n",
    "\n",
    "# This block will always execute, regardless of whether an exception was raised or not\n",
    "finally:\n",
    "    print(\"Execution completed\")\n",
    "\n",
    "# Rest of the code\n"
   ]
  },
  {
   "cell_type": "markdown",
   "id": "e20f8634",
   "metadata": {},
   "source": [
    "QUE 7 =  Write the reason due to which following errors are raised:\n",
    "\n",
    "a. EOFError\n",
    "\n",
    "b. FloatingPointError\n",
    "\n",
    "c. IndexError\n",
    "\n",
    "d. MemoryError\n",
    "\n",
    "e. OverflowError\n",
    "\n",
    "f. TabError\n",
    "\n",
    "g. ValueError\n",
    "\n",
    "ANS 7 = Here are the reasons why the following errors are raised in Python:\n",
    "\n",
    "a. EOFError: This error is raised when the built-in input() function encounters an end-of-file condition, typically when you try to read input from the user but the user presses Ctrl+D (Ctrl+Z on Windows) to signal the end of input.\n",
    "\n",
    "b. FloatingPointError: This error occurs when there is an issue with floating-point arithmetic operations, such as division by zero or an operation resulting in an infinite or NaN (Not-a-Number) value.\n",
    "\n",
    "c. IndexError: This error is raised when you try to access an index that is out of the range of valid indices for a sequence (e.g., a list, tuple, or string). It also occurs when you attempt to access an element of an empty sequence.\n",
    "\n",
    "d. MemoryError: This error occurs when the Python interpreter runs out of memory while trying to allocate an object. It usually happens when your program uses too much memory or has a memory leak.\n",
    "\n",
    "e. OverflowError: This error is raised when a numeric operation exceeds the maximum representable value for a data type, typically when working with integers. For example, trying to calculate a factorial of a large number can lead to an OverflowError.\n",
    "\n",
    "f. TabError: This error is raised when there is an issue with the indentation of code in a Python script or module. It usually occurs when there is a mix of tabs and spaces for indentation, which is not allowed in Python.\n",
    "\n",
    "g. ValueError: This error is raised when a function or operation receives an argument of the correct data type but with an inappropriate or invalid value. For example, passing a string that cannot be converted to an integer to the int() function will result in a ValueError.\n",
    "\n",
    "These error types help Python programmers identify and handle various exceptional conditions that may occur during program execution."
   ]
  },
  {
   "cell_type": "markdown",
   "id": "3a51d3f3",
   "metadata": {},
   "source": [
    "QUE 8 = Write code for the following given scenario and add try-exception block to it.\n",
    "\n",
    "a. Program to divide two numbers\n",
    "\n",
    "b. Program to convert a string to an integer\n",
    "\n",
    "c. Program to access an element in a list\n",
    "\n",
    "d. Program to handle a specific exception\n",
    "\n",
    "e. Program to handle any exception\n",
    "\n",
    "ANS 8 = a. Program to divide two numbers:\n"
   ]
  },
  {
   "cell_type": "code",
   "execution_count": 19,
   "id": "506ddf1f",
   "metadata": {},
   "outputs": [
    {
     "name": "stdout",
     "output_type": "stream",
     "text": [
      "Enter the numerator: 0\n",
      "Enter the denominator: 0\n",
      "Error: Division by zero is not allowed.\n"
     ]
    }
   ],
   "source": [
    "try:\n",
    "    numerator = float(input(\"Enter the numerator: \"))\n",
    "    denominator = float(input(\"Enter the denominator: \"))\n",
    "    result = numerator / denominator\n",
    "    print(\"Result:\", result)\n",
    "except ZeroDivisionError:\n",
    "    print(\"Error: Division by zero is not allowed.\")\n",
    "except ValueError:\n",
    "    print(\"Error: Invalid input. Please enter valid numbers.\")\n",
    "except Exception as e:\n",
    "    print(\"An unexpected error occurred:\", e)\n"
   ]
  },
  {
   "cell_type": "markdown",
   "id": "63c2bcc1",
   "metadata": {},
   "source": [
    "b. Program to convert a string to an integer:"
   ]
  },
  {
   "cell_type": "code",
   "execution_count": 18,
   "id": "8cf091cb",
   "metadata": {},
   "outputs": [
    {
     "name": "stdout",
     "output_type": "stream",
     "text": [
      "Enter an integer: H\n",
      "Error: Invalid input. Please enter a valid integer.\n"
     ]
    }
   ],
   "source": [
    "try:\n",
    "    user_input = input(\"Enter an integer: \")\n",
    "    number = int(user_input)\n",
    "    print(\"Integer:\", number)\n",
    "except ValueError:\n",
    "    print(\"Error: Invalid input. Please enter a valid integer.\")\n",
    "except Exception as e:\n",
    "    print(\"An unexpected error occurred:\", e)\n"
   ]
  },
  {
   "cell_type": "markdown",
   "id": "003e9eca",
   "metadata": {},
   "source": [
    "c. Program to access an element in a list:"
   ]
  },
  {
   "cell_type": "code",
   "execution_count": 17,
   "id": "ff1dc41a",
   "metadata": {},
   "outputs": [
    {
     "name": "stdout",
     "output_type": "stream",
     "text": [
      "Enter an index: 8\n",
      "Error: Index out of range.\n"
     ]
    }
   ],
   "source": [
    "try:\n",
    "    my_list = [1, 2, 3, 4, 5]\n",
    "    index = int(input(\"Enter an index: \"))\n",
    "    element = my_list[index]\n",
    "    print(\"Element at index\", index, \"is:\", element)\n",
    "except IndexError:\n",
    "    print(\"Error: Index out of range.\")\n",
    "except ValueError:\n",
    "    print(\"Error: Invalid input. Please enter a valid index (integer).\")\n",
    "except Exception as e:\n",
    "    print(\"An unexpected error occurred:\", e)\n"
   ]
  },
  {
   "cell_type": "markdown",
   "id": "040aaff8",
   "metadata": {},
   "source": [
    "d. Program to handle a specific exception (e.g., FileNotFoundError):"
   ]
  },
  {
   "cell_type": "code",
   "execution_count": 20,
   "id": "e4b79f80",
   "metadata": {},
   "outputs": [
    {
     "name": "stdout",
     "output_type": "stream",
     "text": [
      "Error: The file nonexistent_file.txt does not exist.\n"
     ]
    }
   ],
   "source": [
    "try:\n",
    "    file_name = \"nonexistent_file.txt\"\n",
    "    with open(file_name, \"r\") as file:\n",
    "        content = file.read()\n",
    "    print(\"File content:\", content)\n",
    "except FileNotFoundError:\n",
    "    print(\"Error: The file\", file_name, \"does not exist.\")\n",
    "except Exception as e:\n",
    "    print(\"An unexpected error occurred:\", e)\n"
   ]
  },
  {
   "cell_type": "markdown",
   "id": "11219669",
   "metadata": {},
   "source": [
    "e. Program to handle any exception (using a generic except block):\n"
   ]
  },
  {
   "cell_type": "code",
   "execution_count": 21,
   "id": "85139b24",
   "metadata": {},
   "outputs": [
    {
     "name": "stdout",
     "output_type": "stream",
     "text": [
      "An error occurred: division by zero\n"
     ]
    }
   ],
   "source": [
    "try:\n",
    "    x = 10 / 0  # This will raise a ZeroDivisionError\n",
    "except Exception as e:\n",
    "    print(\"An error occurred:\", e)\n"
   ]
  },
  {
   "cell_type": "code",
   "execution_count": null,
   "id": "89ba58e9",
   "metadata": {},
   "outputs": [],
   "source": []
  }
 ],
 "metadata": {
  "kernelspec": {
   "display_name": "Python 3 (ipykernel)",
   "language": "python",
   "name": "python3"
  },
  "language_info": {
   "codemirror_mode": {
    "name": "ipython",
    "version": 3
   },
   "file_extension": ".py",
   "mimetype": "text/x-python",
   "name": "python",
   "nbconvert_exporter": "python",
   "pygments_lexer": "ipython3",
   "version": "3.11.4"
  }
 },
 "nbformat": 4,
 "nbformat_minor": 5
}
